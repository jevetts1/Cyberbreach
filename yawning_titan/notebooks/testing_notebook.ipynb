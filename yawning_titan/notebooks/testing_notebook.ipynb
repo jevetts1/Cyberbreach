{
 "cells": [
  {
   "cell_type": "code",
   "execution_count": 1,
   "metadata": {},
   "outputs": [],
   "source": [
    "from yawning_titan.networks.network_db import default_18_node_network\n",
    "from yawning_titan.networks.network_db import dcbo_base_network"
   ]
  },
  {
   "cell_type": "code",
   "execution_count": 2,
   "metadata": {},
   "outputs": [
    {
     "name": "stdout",
     "output_type": "stream",
     "text": [
      "Shortest path to a high value node: 2\n",
      "Longest path to a high value node:  4\n",
      "Average path to a high value node:  3.0\n",
      "Minimum degree of any node:         1\n",
      "Maximum degree of any node:         6\n",
      "Degree of network:                  1.8888888888888888\n",
      "\n",
      "Shortest path to a high value node: 2\n",
      "Longest path to a high value node:  inf\n",
      "Average path to a high value node:  inf\n",
      "Minimum degree of any node:         0\n",
      "Maximum degree of any node:         7\n",
      "Degree of network:                  1.4\n",
      "\n"
     ]
    },
    {
     "name": "stderr",
     "output_type": "stream",
     "text": [
      "c:\\users\\jayde\\yawning_titan_blank\\v2.0.0b1\\yawning-titan\\yawning_titan\\networks\\network.py:602: UserWarning: The configured number of high value nodes exceed the allowable number in the given networks. 3 high value nodes will be created.\n",
      "  warnings.warn(UserWarning(msg))\n",
      "c:\\users\\jayde\\yawning_titan_blank\\v2.0.0b1\\yawning-titan\\yawning_titan\\networks\\network.py:602: UserWarning: The configured number of high value nodes exceed the allowable number in the given networks. 2 high value nodes will be created.\n",
      "  warnings.warn(UserWarning(msg))\n"
     ]
    }
   ],
   "source": [
    "net = default_18_node_network()\n",
    "net.num_of_random_high_value_nodes = 10\n",
    "net.reset_random_high_value_nodes()\n",
    "\n",
    "dcbo = dcbo_base_network()\n",
    "dcbo.num_of_random_high_value_nodes = 3\n",
    "dcbo.reset_random_high_value_nodes()\n",
    "\n",
    "print(net.generate_network_graph_attributes())\n",
    "print(dcbo.generate_network_graph_attributes())"
   ]
  }
 ],
 "metadata": {
  "kernelspec": {
   "display_name": ".venv",
   "language": "python",
   "name": "python3"
  },
  "language_info": {
   "codemirror_mode": {
    "name": "ipython",
    "version": 3
   },
   "file_extension": ".py",
   "mimetype": "text/x-python",
   "name": "python",
   "nbconvert_exporter": "python",
   "pygments_lexer": "ipython3",
   "version": "3.9.7"
  },
  "orig_nbformat": 4
 },
 "nbformat": 4,
 "nbformat_minor": 2
}
